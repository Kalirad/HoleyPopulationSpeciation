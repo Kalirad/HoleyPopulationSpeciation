{
 "cells": [
  {
   "cell_type": "markdown",
   "metadata": {},
   "source": [
    "# RNA pop model demo\n",
    "\n",
    "[RNA pop model](RNA_pop_model.py) requires:\n",
    "\n",
    "- [Vienna RNA package version 2.1.9](https://www.tbi.univie.ac.at/RNA/).\n",
    "\n",
    "- [Python](https://www.python.org/) version 2.7.\n",
    "\n",
    "- [numpy](https://numpy.org/) version 1.11 or later.\n",
    "\n",
    "- [pandas](https://pandas.pydata.org/) version 0.18 or later."
   ]
  },
  {
   "cell_type": "code",
   "execution_count": 4,
   "metadata": {},
   "outputs": [],
   "source": [
    "run ./RNA_pop_model.py"
   ]
  },
  {
   "cell_type": "markdown",
   "metadata": {},
   "source": [
    "**This notebook requires the following packages to visualise the results:**\n",
    "\n",
    "- [matplotlib](https://matplotlib.org/)\n",
    "\n",
    "- [seaborn](https://seaborn.pydata.org/)"
   ]
  },
  {
   "cell_type": "code",
   "execution_count": 32,
   "metadata": {},
   "outputs": [],
   "source": [
    "import matplotlib.pyplot as plt\n",
    "import seaborn as sns\n",
    "sns.set(style=\"ticks\", context='talk')\n",
    "%matplotlib inline"
   ]
  },
  {
   "cell_type": "markdown",
   "metadata": {},
   "source": [
    "## Simulation"
   ]
  },
  {
   "cell_type": "markdown",
   "metadata": {},
   "source": [
    "We start the simulation with a reference sequences ($L=100$):"
   ]
  },
  {
   "cell_type": "code",
   "execution_count": 7,
   "metadata": {},
   "outputs": [],
   "source": [
    "ref_seq = 'UAGACUAUAAAGUACCGGGAUCUAUUGAAUGUUGGUACCCCUUUCGAGUGAUUGCGCCCCAGUCCGUGAACUAGGAUGCAUAUUUACCUAUUCAGAGGAU'"
   ]
  },
  {
   "cell_type": "markdown",
   "metadata": {},
   "source": [
    "The ``Population`` object is initialised by the following parameters:\n",
    "\n",
    "- `ref_seq` : the starting sequence which serves as the reference to measure fitness as well. \n",
    "\n",
    "- `pop_size` : Population size, $N=1$ simulates the SSWM regime.\n",
    "\n",
    "- `mut_rate` : muatation rate per site per generation\n",
    "\n",
    "- `rec_rate` : the recombination probability; offspring are recombinant resulting from a single crossover. If set to `Free`, Crossovers488\n",
    "occur independently with probability $0.5$ at each of the $L − 1$ sites. "
   ]
  },
  {
   "cell_type": "code",
   "execution_count": 25,
   "metadata": {},
   "outputs": [],
   "source": [
    "pop = Population(ref_seq, pop_size=1, mut_rate=1e-3, rec_rate='Free')"
   ]
  },
  {
   "cell_type": "code",
   "execution_count": 26,
   "metadata": {},
   "outputs": [],
   "source": [
    "evol = TwoPops(pop)"
   ]
  },
  {
   "cell_type": "code",
   "execution_count": 27,
   "metadata": {},
   "outputs": [],
   "source": [
    "evol.evolve(gen=500, step=100)"
   ]
  },
  {
   "cell_type": "code",
   "execution_count": 33,
   "metadata": {},
   "outputs": [
    {
     "data": {
      "text/plain": [
       "Text(0.5,0,'Genetic distance')"
      ]
     },
     "execution_count": 33,
     "metadata": {},
     "output_type": "execute_result"
    },
    {
     "data": {
      "image/png": "[encoded data removed]",
      "text/plain": [
       "<Figure size 432x288 with 1 Axes>"
      ]
     },
     "metadata": {
      "needs_background": "light"
     },
     "output_type": "display_data"
    }
   ],
   "source": [
    "plt.errorbar(evol.D, evol.single, fmt='o')\n",
    "plt.ylabel('Incompatible introgressions')\n",
    "plt.xlabel('Genetic distance')"
   ]
  }
 ],
 "metadata": {
  "kernelspec": {
   "display_name": "Python 2",
   "language": "python",
   "name": "python2"
  },
  "language_info": {
   "codemirror_mode": {
    "name": "ipython",
    "version": 2
   },
   "file_extension": ".py",
   "mimetype": "text/x-python",
   "name": "python",
   "nbconvert_exporter": "python",
   "pygments_lexer": "ipython2",
   "version": "2.7.18"
  }
 },
 "nbformat": 4,
 "nbformat_minor": 2
}
