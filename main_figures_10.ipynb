{
 "cells": [
  {
   "cell_type": "markdown",
   "id": "cd62269e",
   "metadata": {},
   "source": [
    "# Fig 10: *Drosophila* species with higher levels of neutral polymorphism and higher recombination rate accumulate postzygotic RI more slowly"
   ]
  },
  {
   "cell_type": "code",
   "execution_count": 1,
   "id": "63903ace",
   "metadata": {},
   "outputs": [],
   "source": [
    "from io import StringIO\n",
    "import numpy as np\n",
    "import pandas as pd\n",
    "from Bio import Phylo\n",
    "import matplotlib.pyplot as plt\n",
    "import seaborn as sns"
   ]
  },
  {
   "cell_type": "code",
   "execution_count": 3,
   "id": "a1216c91-4932-4a2d-b860-c34d5dcf4a55",
   "metadata": {},
   "outputs": [],
   "source": [
    "sns.set()\n",
    "sns.set_context('poster')\n",
    "sns.set_style('ticks')"
   ]
  },
  {
   "cell_type": "code",
   "execution_count": 2,
   "id": "ea9ff5c4",
   "metadata": {},
   "outputs": [],
   "source": [
    "%load_ext rpy2.ipython"
   ]
  },
  {
   "cell_type": "code",
   "execution_count": 15,
   "id": "abd9050e",
   "metadata": {},
   "outputs": [
    {
     "name": "stderr",
     "output_type": "stream",
     "text": [
      "R[write to console]: Loading required package: ape\n",
      "\n",
      "R[write to console]: Loading required package: MASS\n",
      "\n",
      "R[write to console]: Loading required package: mvtnorm\n",
      "\n"
     ]
    }
   ],
   "source": [
    "%%R\n",
    "library(caper)"
   ]
  },
  {
   "cell_type": "markdown",
   "id": "61a1eb4e",
   "metadata": {},
   "source": [
    "## Import data\n",
    "\n",
    "* **RIv** rates with which postzygotic RI accumulates with genetic distance in\n",
    "  each *Drosophila* species group (from Rabosky & Matute 2013).\n",
    "* **pi_s** average levels of neutral polymorphism measured by the synonymous\n",
    "  nucleotide diversity $(\\pi_s)$ at the *Adh* locus (see S1 Table). \n",
    "* **n** number of *Drosophila* species per species group for which there is an\n",
    "  estimate of $\\pi_s$.\n",
    "* **rec** average total map length in cM (see S2 Table).\n",
    "* **n2** number of *Drosophila* species per species group for which there is an\n",
    "  estimate of total map length."
   ]
  },
  {
   "cell_type": "code",
   "execution_count": 4,
   "id": "a74b38e4",
   "metadata": {},
   "outputs": [
    {
     "data": {
      "text/html": [
       "<div>\n",
       "<style scoped>\n",
       "    .dataframe tbody tr th:only-of-type {\n",
       "        vertical-align: middle;\n",
       "    }\n",
       "\n",
       "    .dataframe tbody tr th {\n",
       "        vertical-align: top;\n",
       "    }\n",
       "\n",
       "    .dataframe thead th {\n",
       "        text-align: right;\n",
       "    }\n",
       "</style>\n",
       "<table border=\"1\" class=\"dataframe\">\n",
       "  <thead>\n",
       "    <tr style=\"text-align: right;\">\n",
       "      <th></th>\n",
       "      <th>RIv</th>\n",
       "      <th>pi_s</th>\n",
       "      <th>n</th>\n",
       "      <th>rec</th>\n",
       "      <th>n2</th>\n",
       "    </tr>\n",
       "    <tr>\n",
       "      <th>group</th>\n",
       "      <th></th>\n",
       "      <th></th>\n",
       "      <th></th>\n",
       "      <th></th>\n",
       "      <th></th>\n",
       "    </tr>\n",
       "  </thead>\n",
       "  <tbody>\n",
       "    <tr>\n",
       "      <th>montium</th>\n",
       "      <td>-1.258555</td>\n",
       "      <td>0.032502</td>\n",
       "      <td>8</td>\n",
       "      <td>282.3</td>\n",
       "      <td>1</td>\n",
       "    </tr>\n",
       "    <tr>\n",
       "      <th>virilis</th>\n",
       "      <td>-0.692966</td>\n",
       "      <td>0.024731</td>\n",
       "      <td>5</td>\n",
       "      <td>682.5</td>\n",
       "      <td>2</td>\n",
       "    </tr>\n",
       "    <tr>\n",
       "      <th>immigrans</th>\n",
       "      <td>-0.539924</td>\n",
       "      <td>0.026005</td>\n",
       "      <td>4</td>\n",
       "      <td>752.6</td>\n",
       "      <td>2</td>\n",
       "    </tr>\n",
       "    <tr>\n",
       "      <th>repleta</th>\n",
       "      <td>-0.460076</td>\n",
       "      <td>0.020081</td>\n",
       "      <td>5</td>\n",
       "      <td>675.9</td>\n",
       "      <td>2</td>\n",
       "    </tr>\n",
       "    <tr>\n",
       "      <th>obscura</th>\n",
       "      <td>-0.054183</td>\n",
       "      <td>0.012397</td>\n",
       "      <td>5</td>\n",
       "      <td>723.3</td>\n",
       "      <td>3</td>\n",
       "    </tr>\n",
       "    <tr>\n",
       "      <th>willistoni</th>\n",
       "      <td>0.784221</td>\n",
       "      <td>0.013376</td>\n",
       "      <td>4</td>\n",
       "      <td>320.4</td>\n",
       "      <td>1</td>\n",
       "    </tr>\n",
       "    <tr>\n",
       "      <th>ananassae</th>\n",
       "      <td>1.163498</td>\n",
       "      <td>0.015822</td>\n",
       "      <td>1</td>\n",
       "      <td>350.1</td>\n",
       "      <td>1</td>\n",
       "    </tr>\n",
       "    <tr>\n",
       "      <th>melanogaster</th>\n",
       "      <td>1.196768</td>\n",
       "      <td>0.012881</td>\n",
       "      <td>6</td>\n",
       "      <td>401.9</td>\n",
       "      <td>3</td>\n",
       "    </tr>\n",
       "  </tbody>\n",
       "</table>\n",
       "</div>"
      ],
      "text/plain": [
       "                   RIv      pi_s  n    rec  n2\n",
       "group                                         \n",
       "montium      -1.258555  0.032502  8  282.3   1\n",
       "virilis      -0.692966  0.024731  5  682.5   2\n",
       "immigrans    -0.539924  0.026005  4  752.6   2\n",
       "repleta      -0.460076  0.020081  5  675.9   2\n",
       "obscura      -0.054183  0.012397  5  723.3   3\n",
       "willistoni    0.784221  0.013376  4  320.4   1\n",
       "ananassae     1.163498  0.015822  1  350.1   1\n",
       "melanogaster  1.196768  0.012881  6  401.9   3"
      ]
     },
     "execution_count": 4,
     "metadata": {},
     "output_type": "execute_result"
    }
   ],
   "source": [
    "data = pd.read_csv('raw_data/Fig10.csv', index_col='group')\n",
    "data"
   ]
  },
  {
   "cell_type": "code",
   "execution_count": 5,
   "id": "1db81e0d",
   "metadata": {},
   "outputs": [
    {
     "name": "stdout",
     "output_type": "stream",
     "text": [
      "                   RIv       pi_s n   rec n2\n",
      "montium    -1.25855513 0.03250192 8 282.3  1\n",
      "virilis    -0.69296578 0.02473130 5 682.5  2\n",
      "immigrans  -0.53992395 0.02600459 4 752.6  2\n",
      "repleta    -0.46007605 0.02008120 5 675.9  2\n",
      "obscura    -0.05418251 0.01239716 5 723.3  3\n",
      "willistoni  0.78422053 0.01337647 4 320.4  1\n"
     ]
    }
   ],
   "source": [
    "%%R -i data\n",
    "head(data)"
   ]
  },
  {
   "cell_type": "markdown",
   "id": "c27a8bcc",
   "metadata": {},
   "source": [
    "## Linear OLS regression of RI velocity against $\\pi_s$"
   ]
  },
  {
   "cell_type": "code",
   "execution_count": 6,
   "id": "f571747a",
   "metadata": {},
   "outputs": [
    {
     "name": "stdout",
     "output_type": "stream",
     "text": [
      "\n",
      "Call:\n",
      "lm(formula = RIv ~ pi_s, data = data)\n",
      "\n",
      "Residuals:\n",
      "    Min      1Q  Median      3Q     Max \n",
      "-0.8428 -0.2474  0.0839  0.1926  0.7353 \n",
      "\n",
      "Coefficients:\n",
      "             Estimate Std. Error t value Pr(>|t|)   \n",
      "(Intercept)    2.0937     0.5703   3.671  0.01044 * \n",
      "pi_s        -105.2677    27.2776  -3.859  0.00837 **\n",
      "---\n",
      "Signif. codes:  0 ‘***’ 0.001 ‘**’ 0.01 ‘*’ 0.05 ‘.’ 0.1 ‘ ’ 1\n",
      "\n",
      "Residual standard error: 0.5345 on 6 degrees of freedom\n",
      "Multiple R-squared:  0.7128,\tAdjusted R-squared:  0.665 \n",
      "F-statistic: 14.89 on 1 and 6 DF,  p-value: 0.008371\n",
      "\n"
     ]
    }
   ],
   "source": [
    "%%R -o pars\n",
    "model = lm(RIv ~ pi_s, data=data)\n",
    "pars = coef(model)\n",
    "summary(model)"
   ]
  },
  {
   "cell_type": "code",
   "execution_count": 14,
   "id": "a7033117",
   "metadata": {},
   "outputs": [
    {
     "data": {
      "text/plain": [
       "array([   2.09368803, -105.26773585])"
      ]
     },
     "execution_count": 14,
     "metadata": {},
     "output_type": "execute_result"
    }
   ],
   "source": [
    "pars"
   ]
  },
  {
   "cell_type": "code",
   "execution_count": 7,
   "id": "0bfb0f0d",
   "metadata": {},
   "outputs": [
    {
     "name": "stdout",
     "output_type": "stream",
     "text": [
      "                     RIv       pi_s n   rec n2   RIv_resid\n",
      "montium      -1.25855513 0.03250192 8 282.3  1  0.06916068\n",
      "virilis      -0.69296578 0.02473130 5 682.5  2 -0.18324565\n",
      "immigrans    -0.53992395 0.02600459 4 752.6  2  0.10383232\n",
      "repleta      -0.46007605 0.02008120 5 675.9  2 -0.43986141\n",
      "obscura      -0.05418251 0.01239716 5 723.3  3 -0.84284958\n",
      "willistoni    0.78422053 0.01337647 4 320.4  1  0.09864352\n",
      "ananassae     1.16349810 0.01582183 1 350.1  1  0.73533829\n",
      "melanogaster  1.19676806 0.01288051 6 401.9  3  0.45898183\n"
     ]
    }
   ],
   "source": [
    "%%R -o resid\n",
    "resid = model$resid\n",
    "data$RIv_resid = resid\n",
    "data"
   ]
  },
  {
   "cell_type": "code",
   "execution_count": 8,
   "id": "e877d526",
   "metadata": {},
   "outputs": [
    {
     "data": {
      "text/html": [
       "<div>\n",
       "<style scoped>\n",
       "    .dataframe tbody tr th:only-of-type {\n",
       "        vertical-align: middle;\n",
       "    }\n",
       "\n",
       "    .dataframe tbody tr th {\n",
       "        vertical-align: top;\n",
       "    }\n",
       "\n",
       "    .dataframe thead th {\n",
       "        text-align: right;\n",
       "    }\n",
       "</style>\n",
       "<table border=\"1\" class=\"dataframe\">\n",
       "  <thead>\n",
       "    <tr style=\"text-align: right;\">\n",
       "      <th></th>\n",
       "      <th>RIv</th>\n",
       "      <th>pi_s</th>\n",
       "      <th>n</th>\n",
       "      <th>rec</th>\n",
       "      <th>n2</th>\n",
       "      <th>RIv_resid</th>\n",
       "    </tr>\n",
       "    <tr>\n",
       "      <th>group</th>\n",
       "      <th></th>\n",
       "      <th></th>\n",
       "      <th></th>\n",
       "      <th></th>\n",
       "      <th></th>\n",
       "      <th></th>\n",
       "    </tr>\n",
       "  </thead>\n",
       "  <tbody>\n",
       "    <tr>\n",
       "      <th>montium</th>\n",
       "      <td>-1.258555</td>\n",
       "      <td>0.032502</td>\n",
       "      <td>8</td>\n",
       "      <td>282.3</td>\n",
       "      <td>1</td>\n",
       "      <td>0.069161</td>\n",
       "    </tr>\n",
       "    <tr>\n",
       "      <th>virilis</th>\n",
       "      <td>-0.692966</td>\n",
       "      <td>0.024731</td>\n",
       "      <td>5</td>\n",
       "      <td>682.5</td>\n",
       "      <td>2</td>\n",
       "      <td>-0.183246</td>\n",
       "    </tr>\n",
       "    <tr>\n",
       "      <th>immigrans</th>\n",
       "      <td>-0.539924</td>\n",
       "      <td>0.026005</td>\n",
       "      <td>4</td>\n",
       "      <td>752.6</td>\n",
       "      <td>2</td>\n",
       "      <td>0.103832</td>\n",
       "    </tr>\n",
       "    <tr>\n",
       "      <th>repleta</th>\n",
       "      <td>-0.460076</td>\n",
       "      <td>0.020081</td>\n",
       "      <td>5</td>\n",
       "      <td>675.9</td>\n",
       "      <td>2</td>\n",
       "      <td>-0.439861</td>\n",
       "    </tr>\n",
       "    <tr>\n",
       "      <th>obscura</th>\n",
       "      <td>-0.054183</td>\n",
       "      <td>0.012397</td>\n",
       "      <td>5</td>\n",
       "      <td>723.3</td>\n",
       "      <td>3</td>\n",
       "      <td>-0.842850</td>\n",
       "    </tr>\n",
       "    <tr>\n",
       "      <th>willistoni</th>\n",
       "      <td>0.784221</td>\n",
       "      <td>0.013376</td>\n",
       "      <td>4</td>\n",
       "      <td>320.4</td>\n",
       "      <td>1</td>\n",
       "      <td>0.098644</td>\n",
       "    </tr>\n",
       "    <tr>\n",
       "      <th>ananassae</th>\n",
       "      <td>1.163498</td>\n",
       "      <td>0.015822</td>\n",
       "      <td>1</td>\n",
       "      <td>350.1</td>\n",
       "      <td>1</td>\n",
       "      <td>0.735338</td>\n",
       "    </tr>\n",
       "    <tr>\n",
       "      <th>melanogaster</th>\n",
       "      <td>1.196768</td>\n",
       "      <td>0.012881</td>\n",
       "      <td>6</td>\n",
       "      <td>401.9</td>\n",
       "      <td>3</td>\n",
       "      <td>0.458982</td>\n",
       "    </tr>\n",
       "  </tbody>\n",
       "</table>\n",
       "</div>"
      ],
      "text/plain": [
       "                   RIv      pi_s  n    rec  n2  RIv_resid\n",
       "group                                                    \n",
       "montium      -1.258555  0.032502  8  282.3   1   0.069161\n",
       "virilis      -0.692966  0.024731  5  682.5   2  -0.183246\n",
       "immigrans    -0.539924  0.026005  4  752.6   2   0.103832\n",
       "repleta      -0.460076  0.020081  5  675.9   2  -0.439861\n",
       "obscura      -0.054183  0.012397  5  723.3   3  -0.842850\n",
       "willistoni    0.784221  0.013376  4  320.4   1   0.098644\n",
       "ananassae     1.163498  0.015822  1  350.1   1   0.735338\n",
       "melanogaster  1.196768  0.012881  6  401.9   3   0.458982"
      ]
     },
     "execution_count": 8,
     "metadata": {},
     "output_type": "execute_result"
    }
   ],
   "source": [
    "data['RIv_resid'] = resid\n",
    "data"
   ]
  },
  {
   "cell_type": "markdown",
   "id": "42d03471",
   "metadata": {},
   "source": [
    "## Adding total map length to linear OLS regression model"
   ]
  },
  {
   "cell_type": "code",
   "execution_count": 13,
   "id": "4c2bfd9e",
   "metadata": {},
   "outputs": [
    {
     "name": "stdout",
     "output_type": "stream",
     "text": [
      "\n",
      "Call:\n",
      "lm(formula = RIv ~ pi_s + rec, data = data)\n",
      "\n",
      "Residuals:\n",
      "     montium      virilis    immigrans      repleta      obscura   willistoni \n",
      "    -0.35102      0.06271      0.46046     -0.19397     -0.50260     -0.21611 \n",
      "   ananassae melanogaster \n",
      "     0.46312      0.27741 \n",
      "\n",
      "Coefficients:\n",
      "              Estimate Std. Error t value Pr(>|t|)   \n",
      "(Intercept)  2.897e+00  6.225e-01   4.654  0.00556 **\n",
      "pi_s        -1.030e+02  2.248e+01  -4.581  0.00594 **\n",
      "rec         -1.620e-03  8.248e-04  -1.964  0.10671   \n",
      "---\n",
      "Signif. codes:  0 ‘***’ 0.001 ‘**’ 0.01 ‘*’ 0.05 ‘.’ 0.1 ‘ ’ 1\n",
      "\n",
      "Residual standard error: 0.4399 on 5 degrees of freedom\n",
      "Multiple R-squared:  0.8379,\tAdjusted R-squared:  0.7731 \n",
      "F-statistic: 12.92 on 2 and 5 DF,  p-value: 0.01058\n",
      "\n"
     ]
    }
   ],
   "source": [
    "%%R\n",
    "model2 = lm(RIv ~ pi_s + rec, data=data)\n",
    "summary(model2)"
   ]
  },
  {
   "cell_type": "markdown",
   "id": "9d183df4",
   "metadata": {},
   "source": [
    "## PGLS regression analysis assuming Brownian motion of RI velocity against $\\pi_s$"
   ]
  },
  {
   "cell_type": "code",
   "execution_count": 21,
   "id": "bed2e24c",
   "metadata": {},
   "outputs": [
    {
     "name": "stdout",
     "output_type": "stream",
     "text": [
      "         group         RIv       pi_s n   rec n2   RIv_resid\n",
      "1      montium -1.25855513 0.03250192 8 282.3  1  0.06916068\n",
      "2      virilis -0.69296578 0.02473130 5 682.5  2 -0.18324565\n",
      "3    immigrans -0.53992395 0.02600459 4 752.6  2  0.10383232\n",
      "4      repleta -0.46007605 0.02008120 5 675.9  2 -0.43986141\n",
      "5      obscura -0.05418251 0.01239716 5 723.3  3 -0.84284958\n",
      "6   willistoni  0.78422053 0.01337647 4 320.4  1  0.09864352\n",
      "7    ananassae  1.16349810 0.01582183 1 350.1  1  0.73533829\n",
      "8 melanogaster  1.19676806 0.01288051 6 401.9  3  0.45898183\n"
     ]
    }
   ],
   "source": [
    "%%R\n",
    "data <- cbind(group = rownames(data), data)\n",
    "rownames(data) <- 1:nrow(data)\n",
    "data"
   ]
  },
  {
   "cell_type": "code",
   "execution_count": 18,
   "id": "f19a63e4",
   "metadata": {},
   "outputs": [
    {
     "data": {
      "image/png": "[encoded data removed]"
     },
     "metadata": {},
     "output_type": "display_data"
    }
   ],
   "source": [
    "%%R\n",
    "tree <- read.tree(text=\"(((((montium:1.6,melanogaster:1.6):0.5,ananassae:2.1):1.2, obscura:3.3):2.2, willistoni:5.5):1.0, (immigrans:4.9, (virilis:2.8, repleta:2.8):2.1):1.6);\")\n",
    "plot(tree)"
   ]
  },
  {
   "cell_type": "code",
   "execution_count": 22,
   "id": "51bd4472",
   "metadata": {},
   "outputs": [
    {
     "name": "stdout",
     "output_type": "stream",
     "text": [
      "Comparative dataset of 8 taxa:\n",
      "Phylogeny: tree \n",
      "   8 tips, 7 internal nodes\n",
      "   chr [1:8] \"montium\" \"melanogaster\" \"ananassae\" \"obscura\" \"willistoni\" ...\n",
      "VCV matrix present:\n",
      "   'VCV.array' num [1:8, 1:8] 6.5 4.9 4.4 3.2 1 0 0 0 4.9 6.5 ...\n",
      "Data: data \n",
      "   $ RIv      : num [1:8] -1.2586 1.1968 1.1635 -0.0542 0.7842 ...\n",
      "   $ pi_s     : num [1:8] 0.0325 0.0129 0.0158 0.0124 0.0134 ...\n",
      "   $ n        : int [1:8] 8 6 1 5 4 4 5 5\n",
      "   $ rec      : num [1:8] 282 402 350 723 320 ...\n",
      "   $ n2       : int [1:8] 1 3 1 3 1 2 2 2\n",
      "   $ RIv_resid: num [1:8] 0.0692 0.459 0.7353 -0.8428 0.0986 ...\n"
     ]
    }
   ],
   "source": [
    "%%R\n",
    "compdata = comparative.data(phy = tree, data = data, names.col = group, vcv = TRUE, na.omit = FALSE, warn.dropped = TRUE)\n",
    "compdata"
   ]
  },
  {
   "cell_type": "code",
   "execution_count": 24,
   "id": "33ea372a",
   "metadata": {},
   "outputs": [
    {
     "name": "stdout",
     "output_type": "stream",
     "text": [
      "\n",
      "Call:\n",
      "pgls(formula = RIv ~ pi_s, data = compdata)\n",
      "\n",
      "Residuals:\n",
      "     Min       1Q   Median       3Q      Max \n",
      "-0.57782 -0.18477 -0.10270  0.03319  0.10347 \n",
      "\n",
      "Branch length transformations:\n",
      "\n",
      "kappa  [Fix]  : 1.000\n",
      "lambda [Fix]  : 1.000\n",
      "delta  [Fix]  : 1.000\n",
      "\n",
      "Coefficients:\n",
      "              Estimate Std. Error t value Pr(>|t|)   \n",
      "(Intercept)    2.19651    0.55049  3.9901 0.007200 **\n",
      "pi_s        -113.48263   21.55228 -5.2655 0.001891 **\n",
      "---\n",
      "Signif. codes:  0 ‘***’ 0.001 ‘**’ 0.01 ‘*’ 0.05 ‘.’ 0.1 ‘ ’ 1\n",
      "\n",
      "Residual standard error: 0.2745 on 6 degrees of freedom\n",
      "Multiple R-squared: 0.8221,\tAdjusted R-squared: 0.7924 \n",
      "F-statistic: 27.73 on 1 and 6 DF,  p-value: 0.001891 \n"
     ]
    }
   ],
   "source": [
    "%%R\n",
    "model.BM <- pgls(RIv ~ pi_s, data=compdata)\n",
    "summary(model.BM)"
   ]
  },
  {
   "cell_type": "markdown",
   "id": "b938dfe0",
   "metadata": {},
   "source": [
    "## Fig 10\n",
    "\n",
    "**Note:** For some reason the plot does not look right in the notebook but\n",
    "the output should be correct."
   ]
  },
  {
   "cell_type": "code",
   "execution_count": 9,
   "id": "9b6d6ba5",
   "metadata": {},
   "outputs": [
    {
     "data": {
      "text/plain": [
       "['montium',\n",
       " 'virilis',\n",
       " 'immigrans',\n",
       " 'repleta',\n",
       " 'obscura',\n",
       " 'willistoni',\n",
       " 'ananassae',\n",
       " 'melanogaster']"
      ]
     },
     "execution_count": 9,
     "metadata": {},
     "output_type": "execute_result"
    }
   ],
   "source": [
    "spp = data.index.tolist()\n",
    "spp"
   ]
  },
  {
   "cell_type": "code",
   "execution_count": 10,
   "id": "c5d4f7ef",
   "metadata": {},
   "outputs": [],
   "source": [
    "for i in ['axes.labelsize', 'xtick.labelsize', 'ytick.labelsize']:\n",
    "    plt.rcParams[i] = 26\n",
    "for i in ['axes.linewidth', 'xtick.major.width', 'ytick.major.width']:\n",
    "    plt.rcParams[i] = 3.5\n",
    "plt.rcParams['xtick.major.size'] = 16\n",
    "plt.rcParams['ytick.major.size'] = 16"
   ]
  },
  {
   "cell_type": "code",
   "execution_count": 12,
   "id": "ab1e7434",
   "metadata": {},
   "outputs": [
    {
     "data": {
      "text/plain": [
       "<Figure size 640x480 with 0 Axes>"
      ]
     },
     "metadata": {},
     "output_type": "display_data"
    },
    {
     "data": {
      "image/png": "[encoded data removed]",
      "text/plain": [
       "<Figure size 1600x800 with 3 Axes>"
      ]
     },
     "metadata": {},
     "output_type": "display_data"
    }
   ],
   "source": [
    "## axes\n",
    "plt.figure()\n",
    "fig, (ax1, ax2, ax3) = plt.subplots(1, 3, figsize = (16, 8))\n",
    "ax1.set_position([-.002, .064, .22, .942])\n",
    "ax1.axis('off')\n",
    "ax2.set_position([.338, .13, .401, .8])\n",
    "ax3.set_position([.857, .13, .14, .8])\n",
    "### labels\n",
    "ax1.text(-.08, 1.35, 'A', weight='bold', size=42)\n",
    "ax2.text(0.0035, 1.21, 'B', weight='bold', size=42)\n",
    "ax3.text(-1.31, .72, 'C', weight='bold', size=42)\n",
    "### colors\n",
    "cols = [\"lavender\", \"carnation\", \"tangerine\", \"lipstick red\", \"tealish\", \"tree green\", \"light blue\", \"dark sky blue\"]\n",
    "### A tree\n",
    "tree = Phylo.read(StringIO(\"(((((mon:1.6,mel:1.6):0.5,ana:2.1):1.2, obs:3.3):2.2, wil:5.5):1.0, (imm:4.9, (vir:2.8, rep:2.8):2.1):1.6);\"), \"newick\")\n",
    "Phylo.draw(tree, axes=ax1, label_colors={spp[i][:3]: sns.xkcd_rgb[cols[i]] for i in range(8)}, )\n",
    "### B RIv against pi_s\n",
    "# OLS regression\n",
    "x = np.linspace(.008, .034, 10)\n",
    "y = pars[0] + pars[1] * x\n",
    "ax2.plot(x, y, color=\"k\", lw=4)\n",
    "# points\n",
    "pts = np.sqrt(data['rec']) * .8\n",
    "for i in range(8):\n",
    "    ax2.plot(data.loc[spp[i], 'pi_s'], data.loc[spp[i], 'RIv'], 'o', color=sns.xkcd_rgb[cols[i]], ms=pts[i])\n",
    "    ax3.plot(data.loc[spp[i], 'rec'] > 500, data.loc[spp[i], 'RIv_resid'], 'o', color=sns.xkcd_rgb[cols[i]], clip_on=False, ms=pts[i])\n",
    "# labels on the left\n",
    "for i in [0, 1, 7]:\n",
    "    ax2.text(data.loc[spp[i], 'pi_s']-.0008 * pts[i] / 20, data.loc[spp[i], 'RIv'], spp[i][:3], ha='right', va='center', size=24, color=sns.xkcd_rgb[cols[i]])   \n",
    "# labels on the right\n",
    "for i in [2, 3, 4, 5, 6]:\n",
    "    ax2.text(data.loc[spp[i], 'pi_s']+.0008 * pts[i] / 20, data.loc[spp[i], 'RIv'], spp[i][:3], ha='left', va='center', size=24, color=sns.xkcd_rgb[cols[i]])\n",
    "ax2.text(.0299, 1.2, 'Map length', color=\"0.7\", ha='center', va='center')\n",
    "for a in [300, 500, 700]:\n",
    "    h = a / 1000 + .28\n",
    "    ax2.plot(.0285, h, 'o', color=\"0.7\", ms=np.sqrt(a)*.8)\n",
    "    ax2.text(.03, h, a, ha='left', va='center', color=\"0.7\")\n",
    "ax2.set_xlim(.009, .034)\n",
    "ax2.set_xticks(np.arange(.01, .031, .01))\n",
    "ax2.set_xlabel('Nucleotide diversity')\n",
    "ax2.set_ylim(-1.42, 1.385)\n",
    "ax2.set_yticks(np.arange(-1, 1.1, .5))\n",
    "ax2.set_ylabel('Postzygotic RI velocity')\n",
    "### C RIvresiduals by map length\n",
    "ax3.set_xlabel('Map length')\n",
    "ax3.set_xlim(-.3, 1.3)\n",
    "ax3.set_xticks([0, 1])\n",
    "ax3.set_xticklabels(['Short', 'Long'])\n",
    "ax3.set_ylabel('Residual postzygotic RI velocity')\n",
    "ax3.set_ylim(-.95, .83)\n",
    "ax3.set_yticks(np.arange(-.8, .81, .4))\n",
    "ax3.plot([0, 1], [data.loc[data['rec'] < 500, 'RIv_resid'].mean(), data.loc[data['rec'] > 500, 'RIv_resid'].mean()], color=\"k\", lw=4)\n",
    "fig.savefig('Fig10.pdf');"
   ]
  }
 ],
 "metadata": {
  "kernelspec": {
   "display_name": "Python 3 (ipykernel)",
   "language": "python",
   "name": "python3"
  },
  "language_info": {
   "codemirror_mode": {
    "name": "ipython",
    "version": 3
   },
   "file_extension": ".py",
   "mimetype": "text/x-python",
   "name": "python",
   "nbconvert_exporter": "python",
   "pygments_lexer": "ipython3",
   "version": "3.7.12"
  }
 },
 "nbformat": 4,
 "nbformat_minor": 5
}
